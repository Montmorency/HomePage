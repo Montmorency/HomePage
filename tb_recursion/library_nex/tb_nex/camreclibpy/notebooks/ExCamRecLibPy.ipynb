{
 "cells": [
  {
   "cell_type": "code",
   "execution_count": 1,
   "metadata": {},
   "outputs": [],
   "source": [
    "import sys\n",
    "import numpy as np\n",
    "import matplotlib.pyplot as plt\n",
    "\n",
    "import recal\n",
    "import coeffproc\n",
    "import slaterkoster\n",
    "import initialization"
   ]
  },
  {
   "cell_type": "code",
   "execution_count": 2,
   "metadata": {},
   "outputs": [],
   "source": [
    "#Parameters for the Recursion Calculation\n",
    "#number of nearest neighbour vectors, \n",
    "#and max number nearest neighbours.\n",
    "nx = 5\n",
    "ny = 5\n",
    "nz = 6\n",
    "nnmx = 25\n",
    "n_at = 75\n",
    "ntype = 1\n",
    "nndim = n_at"
   ]
  },
  {
   "cell_type": "code",
   "execution_count": 3,
   "metadata": {},
   "outputs": [
    {
     "name": "stdout",
     "output_type": "stream",
     "text": [
      "1\n",
      "0\n"
     ]
    }
   ],
   "source": [
    "#Test equiv function.\n",
    "a = np.array([1,2,3], dtype=np.float64, order='F')\n",
    "b = np.array([1,2,3], dtype=np.float64, order='F')\n",
    "c = np.array([1,2,4], dtype=np.float64, order='F')\n",
    "print initialization.equiv(a,b)\n",
    "print initialization.equiv(a,c)"
   ]
  },
  {
   "cell_type": "code",
   "execution_count": 4,
   "metadata": {},
   "outputs": [],
   "source": [
    "bcc_crd = np.zeros([3,n_at], dtype=np.int32, order='F')\n",
    "fcc_crd = np.zeros([3,n_at], dtype=np.int32, order='F')\n",
    "nn = np.zeros([nndim, nnmx], dtype=np.int32, order='F')\n",
    "izp = np.zeros([n_at], dtype=np.int32, order='F')"
   ]
  },
  {
   "cell_type": "code",
   "execution_count": 5,
   "metadata": {},
   "outputs": [
    {
     "name": "stdout",
     "output_type": "stream",
     "text": [
      "BCC \tFCC\n",
      "75 75\n",
      "[1 1 1] [2 1 1]\n",
      "[1 1 3] [4 1 1]\n",
      "[1 1 5] [1 2 1]\n",
      "[1 3 1] [3 2 1]\n",
      "[1 3 3] [5 2 1]\n",
      "[1 3 5] [2 3 1]\n",
      "[3 1 1] [4 3 1]\n",
      "[3 1 3] [1 4 1]\n",
      "[3 1 5] [3 4 1]\n",
      "[3 3 1] [5 4 1]\n",
      "[3 3 3] [2 5 1]\n",
      "[3 3 5] [4 5 1]\n",
      "[2 2 2] [1 1 2]\n",
      "[2 2 4] [3 1 2]\n",
      "[2 2 6] [5 1 2]\n",
      "[2 4 2] [2 2 2]\n",
      "[2 4 4] [4 2 2]\n",
      "[2 4 6] [1 3 2]\n",
      "[4 2 2] [3 3 2]\n",
      "[4 2 4] [5 3 2]\n",
      "[4 2 6] [2 4 2]\n",
      "[4 4 2] [4 4 2]\n",
      "[4 4 4] [1 5 2]\n",
      "[4 4 6] [3 5 2]\n",
      "[0 0 0] [5 5 2]\n",
      "[0 0 0] [2 1 3]\n",
      "[0 0 0] [4 1 3]\n",
      "[0 0 0] [1 2 3]\n",
      "[0 0 0] [3 2 3]\n",
      "[0 0 0] [5 2 3]\n",
      "[0 0 0] [2 3 3]\n",
      "[0 0 0] [4 3 3]\n",
      "[0 0 0] [1 4 3]\n",
      "[0 0 0] [3 4 3]\n",
      "[0 0 0] [5 4 3]\n",
      "[0 0 0] [2 5 3]\n",
      "[0 0 0] [4 5 3]\n",
      "[0 0 0] [1 1 4]\n",
      "[0 0 0] [3 1 4]\n",
      "[0 0 0] [5 1 4]\n",
      "[0 0 0] [2 2 4]\n",
      "[0 0 0] [4 2 4]\n",
      "[0 0 0] [1 3 4]\n",
      "[0 0 0] [3 3 4]\n",
      "[0 0 0] [5 3 4]\n",
      "[0 0 0] [2 4 4]\n",
      "[0 0 0] [4 4 4]\n",
      "[0 0 0] [1 5 4]\n",
      "[0 0 0] [3 5 4]\n",
      "[0 0 0] [5 5 4]\n",
      "[0 0 0] [2 1 5]\n",
      "[0 0 0] [4 1 5]\n",
      "[0 0 0] [1 2 5]\n",
      "[0 0 0] [3 2 5]\n",
      "[0 0 0] [5 2 5]\n",
      "[0 0 0] [2 3 5]\n",
      "[0 0 0] [4 3 5]\n",
      "[0 0 0] [1 4 5]\n",
      "[0 0 0] [3 4 5]\n",
      "[0 0 0] [5 4 5]\n",
      "[0 0 0] [2 5 5]\n",
      "[0 0 0] [4 5 5]\n",
      "[0 0 0] [1 1 6]\n",
      "[0 0 0] [3 1 6]\n",
      "[0 0 0] [5 1 6]\n",
      "[0 0 0] [2 2 6]\n",
      "[0 0 0] [4 2 6]\n",
      "[0 0 0] [1 3 6]\n",
      "[0 0 0] [3 3 6]\n",
      "[0 0 0] [5 3 6]\n",
      "[0 0 0] [2 4 6]\n",
      "[0 0 0] [4 4 6]\n",
      "[0 0 0] [1 5 6]\n",
      "[0 0 0] [3 5 6]\n",
      "[0 0 0] [5 5 6]\n",
      "75\n"
     ]
    }
   ],
   "source": [
    "n_at_bcc = n_at\n",
    "n_at_fcc = n_at\n",
    "initialization.bcclat(bcc_crd,izp,n_at_bcc,nx,ny,nz,ntype)\n",
    "initialization.fcclat(fcc_crd,izp,n_at_fcc,nx,ny,nz,ntype)\n",
    "print 'BCC','\\t', 'FCC'\n",
    "print n_at_bcc, n_at_fcc\n",
    "for R, species in zip(bcc_crd.T, fcc_crd.T):\n",
    "    print R, species\n",
    "print n_at"
   ]
  },
  {
   "cell_type": "code",
   "execution_count": 6,
   "metadata": {},
   "outputs": [
    {
     "name": "stdout",
     "output_type": "stream",
     "text": [
      "75\n",
      "[1 1 1 1 1 1 1 1 1 1 1 1 1 1 1 1 1 1 1 1 1 1 1 1 1 1 1 1 1 1 1 1 1 1 1 1 1\n",
      " 1 1 1 1 1 1 1 1 1 1 1 1 1 1 1 1 1 1 1 1 1 1 1 1 1 1 1 1 1 1 1 1 1 1 1 1 1\n",
      " 1]\n"
     ]
    }
   ],
   "source": [
    "n_at =len(filter(lambda x:x[0]!=0, fcc_crd.T))\n",
    "print n_at\n",
    "print izp"
   ]
  },
  {
   "cell_type": "code",
   "execution_count": 7,
   "metadata": {},
   "outputs": [
    {
     "name": "stdout",
     "output_type": "stream",
     "text": [
      "Type, Nearest Neighbours\n",
      "1 [ 6  3  4 13 14 16  0  0  0  0  0  0  0]\n",
      "1 [ 6  4  5 14 15 17  0  0  0  0  0  0  0]\n",
      "1 [ 6  1  6 13 16 18  0  0  0  0  0  0  0]\n",
      "1 [ 9  1  2  6  7 14 16 17 19  0  0  0  0]\n",
      "1 [ 6  2  7 15 17 20  0  0  0  0  0  0  0]\n",
      "1 [ 9  3  4  8  9 16 18 19 21  0  0  0  0]\n",
      "1 [ 9  4  5  9 10 17 19 20 22  0  0  0  0]\n",
      "1 [ 6  6 11 18 21 23  0  0  0  0  0  0  0]\n",
      "1 [ 9  6  7 11 12 19 21 22 24  0  0  0  0]\n",
      "1 [ 6  7 12 20 22 25  0  0  0  0  0  0  0]\n",
      "1 [ 6  8  9 21 23 24  0  0  0  0  0  0  0]\n",
      "1 [ 6  9 10 22 24 25  0  0  0  0  0  0  0]\n",
      "1 [ 6  1  3 16 26 28  0  0  0  0  0  0  0]\n",
      "1 [ 9  1  2  4 16 17 26 27 29  0  0  0  0]\n",
      "1 [ 6  2  5 17 27 30  0  0  0  0  0  0  0]\n",
      "1 [13  1  3  4  6 13 14 18 19 26 28 29 31]\n",
      "1 [13  2  4  5  7 14 15 19 20 27 29 30 32]\n",
      "1 [ 9  3  6  8 16 21 28 31 33  0  0  0  0]\n",
      "1 [13  4  6  7  9 16 17 21 22 29 31 32 34]\n",
      "1 [ 9  5  7 10 17 22 30 32 35  0  0  0  0]\n",
      "1 [13  6  8  9 11 18 19 23 24 31 33 34 36]\n",
      "1 [13  7  9 10 12 19 20 24 25 32 34 35 37]\n",
      "1 [ 6  8 11 21 33 36  0  0  0  0  0  0  0]\n",
      "1 [ 9  9 11 12 21 22 34 36 37  0  0  0  0]\n",
      "1 [ 6 10 12 22 35 37  0  0  0  0  0  0  0]\n",
      "1 [ 9 13 14 16 28 29 38 39 41  0  0  0  0]\n",
      "1 [ 9 14 15 17 29 30 39 40 42  0  0  0  0]\n",
      "1 [ 9 13 16 18 26 31 38 41 43  0  0  0  0]\n",
      "1 [13 14 16 17 19 26 27 31 32 39 41 42 44]\n",
      "1 [ 9 15 17 20 27 32 40 42 45  0  0  0  0]\n",
      "1 [13 16 18 19 21 28 29 33 34 41 43 44 46]\n",
      "1 [13 17 19 20 22 29 30 34 35 42 44 45 47]\n",
      "1 [ 9 18 21 23 31 36 43 46 48  0  0  0  0]\n",
      "1 [13 19 21 22 24 31 32 36 37 44 46 47 49]\n",
      "1 [ 9 20 22 25 32 37 45 47 50  0  0  0  0]\n",
      "1 [ 9 21 23 24 33 34 46 48 49  0  0  0  0]\n",
      "1 [ 9 22 24 25 34 35 47 49 50  0  0  0  0]\n",
      "1 [ 6 26 28 41 51 53  0  0  0  0  0  0  0]\n",
      "1 [ 9 26 27 29 41 42 51 52 54  0  0  0  0]\n",
      "1 [ 6 27 30 42 52 55  0  0  0  0  0  0  0]\n",
      "1 [13 26 28 29 31 38 39 43 44 51 53 54 56]\n",
      "1 [13 27 29 30 32 39 40 44 45 52 54 55 57]\n",
      "1 [ 9 28 31 33 41 46 53 56 58  0  0  0  0]\n",
      "1 [13 29 31 32 34 41 42 46 47 54 56 57 59]\n",
      "1 [ 9 30 32 35 42 47 55 57 60  0  0  0  0]\n",
      "1 [13 31 33 34 36 43 44 48 49 56 58 59 61]\n",
      "1 [13 32 34 35 37 44 45 49 50 57 59 60 62]\n",
      "1 [ 6 33 36 46 58 61  0  0  0  0  0  0  0]\n",
      "1 [ 9 34 36 37 46 47 59 61 62  0  0  0  0]\n",
      "1 [ 6 35 37 47 60 62  0  0  0  0  0  0  0]\n",
      "1 [ 9 38 39 41 53 54 63 64 66  0  0  0  0]\n",
      "1 [ 9 39 40 42 54 55 64 65 67  0  0  0  0]\n",
      "1 [ 9 38 41 43 51 56 63 66 68  0  0  0  0]\n",
      "1 [13 39 41 42 44 51 52 56 57 64 66 67 69]\n",
      "1 [ 9 40 42 45 52 57 65 67 70  0  0  0  0]\n",
      "1 [13 41 43 44 46 53 54 58 59 66 68 69 71]\n",
      "1 [13 42 44 45 47 54 55 59 60 67 69 70 72]\n",
      "1 [ 9 43 46 48 56 61 68 71 73  0  0  0  0]\n",
      "1 [13 44 46 47 49 56 57 61 62 69 71 72 74]\n",
      "1 [ 9 45 47 50 57 62 70 72 75  0  0  0  0]\n",
      "1 [ 9 46 48 49 58 59 71 73 74  0  0  0  0]\n",
      "1 [ 9 47 49 50 59 60 72 74 75  0  0  0  0]\n",
      "1 [ 4 51 53 66  0  0  0  0  0  0  0  0  0]\n",
      "1 [ 6 51 52 54 66 67  0  0  0  0  0  0  0]\n",
      "1 [ 4 52 55 67  0  0  0  0  0  0  0  0  0]\n",
      "1 [ 9 51 53 54 56 63 64 68 69  0  0  0  0]\n",
      "1 [ 9 52 54 55 57 64 65 69 70  0  0  0  0]\n",
      "1 [ 6 53 56 58 66 71  0  0  0  0  0  0  0]\n",
      "1 [ 9 54 56 57 59 66 67 71 72  0  0  0  0]\n",
      "1 [ 6 55 57 60 67 72  0  0  0  0  0  0  0]\n",
      "1 [ 9 56 58 59 61 68 69 73 74  0  0  0  0]\n",
      "1 [ 9 57 59 60 62 69 70 74 75  0  0  0  0]\n",
      "1 [ 4 58 61 71  0  0  0  0  0  0  0  0  0]\n",
      "1 [ 6 59 61 62 71 72  0  0  0  0  0  0  0]\n",
      "1 [ 4 60 62 72  0  0  0  0  0  0  0  0  0]\n"
     ]
    }
   ],
   "source": [
    "initialization.nncal(fcc_crd[:,:n_at],n_at,izp[:n_at],nn,initialization.fccbnd)\n",
    "print 'Type,', 'Nearest Neighbours'\n",
    "for n, i in zip(nn[:n_at,:13], izp[:]):\n",
    "    print i,n"
   ]
  },
  {
   "cell_type": "code",
   "execution_count": 8,
   "metadata": {},
   "outputs": [
    {
     "name": "stdout",
     "output_type": "stream",
     "text": [
      "75 25\n"
     ]
    }
   ],
   "source": [
    "#iw species type list, unique interaction vectors.\n",
    "iw = np.zeros([2,nnmx], dtype=np.int32, order='F')\n",
    "vec = np.zeros([3,nnmx], dtype=np.int32, order='F')\n",
    "#interaction map\n",
    "mm = np.zeros([nndim, nnmx], dtype=np.int32, order='F')\n",
    "#Hamiltonian Matrix\n",
    "EE = np.zeros([5,5,nnmx],dtype=np.float64,order='F')\n",
    "print n_at, nnmx"
   ]
  },
  {
   "cell_type": "code",
   "execution_count": 9,
   "metadata": {},
   "outputs": [],
   "source": [
    "nm = 13\n",
    "nmat = 13"
   ]
  },
  {
   "cell_type": "code",
   "execution_count": 10,
   "metadata": {},
   "outputs": [
    {
     "name": "stdout",
     "output_type": "stream",
     "text": [
      "Type, Interaction Vector\n",
      "1 [13  1  2  3  4  5  0  0  0  0  0  0  0]\n",
      "1 [13  1  2  3  4  5  0  0  0  0  0  0  0]\n",
      "1 [13  6  2  7  4  5  0  0  0  0  0  0  0]\n",
      "1 [13  8  6  1  2  7  3  4  5  0  0  0  0]\n",
      "1 [13  8  1  7  3  5  0  0  0  0  0  0  0]\n",
      "1 [13  8  6  1  2  7  3  4  5  0  0  0  0]\n",
      "1 [13  8  6  1  2  7  3  4  5  0  0  0  0]\n",
      "1 [13  6  2  7  4  5  0  0  0  0  0  0  0]\n",
      "1 [13  8  6  1  2  7  3  4  5  0  0  0  0]\n",
      "1 [13  8  1  7  3  5  0  0  0  0  0  0  0]\n",
      "1 [13  8  6  7  3  4  0  0  0  0  0  0  0]\n",
      "1 [13  8  6  7  3  4  0  0  0  0  0  0  0]\n",
      "1 [13  9 10  2  4  5  0  0  0  0  0  0  0]\n",
      "1 [13 11  9 10  1  2  3  4  5  0  0  0  0]\n",
      "1 [13 11 10  1  3  5  0  0  0  0  0  0  0]\n",
      "1 [13 12 11  9 10  8  6  1  2  7  3  4  5]\n",
      "1 [13 12 11  9 10  8  6  1  2  7  3  4  5]\n",
      "1 [13 12  9 10  6  2  7  4  5  0  0  0  0]\n",
      "1 [13 12 11  9 10  8  6  1  2  7  3  4  5]\n",
      "1 [13 12 11 10  8  1  7  3  5  0  0  0  0]\n",
      "1 [13 12 11  9 10  8  6  1  2  7  3  4  5]\n",
      "1 [13 12 11  9 10  8  6  1  2  7  3  4  5]\n",
      "1 [13 12  9  6  7  4  0  0  0  0  0  0  0]\n",
      "1 [13 12 11  9  8  6  7  3  4  0  0  0  0]\n",
      "1 [13 12 11  8  7  3  0  0  0  0  0  0  0]\n",
      "1 [13 11  9 10  1  2  3  4  5  0  0  0  0]\n",
      "1 [13 11  9 10  1  2  3  4  5  0  0  0  0]\n",
      "1 [13 12  9 10  6  2  7  4  5  0  0  0  0]\n",
      "1 [13 12 11  9 10  8  6  1  2  7  3  4  5]\n",
      "1 [13 12 11 10  8  1  7  3  5  0  0  0  0]\n",
      "1 [13 12 11  9 10  8  6  1  2  7  3  4  5]\n",
      "1 [13 12 11  9 10  8  6  1  2  7  3  4  5]\n",
      "1 [13 12  9 10  6  2  7  4  5  0  0  0  0]\n",
      "1 [13 12 11  9 10  8  6  1  2  7  3  4  5]\n",
      "1 [13 12 11 10  8  1  7  3  5  0  0  0  0]\n",
      "1 [13 12 11  9  8  6  7  3  4  0  0  0  0]\n",
      "1 [13 12 11  9  8  6  7  3  4  0  0  0  0]\n",
      "1 [13  9 10  2  4  5  0  0  0  0  0  0  0]\n",
      "1 [13 11  9 10  1  2  3  4  5  0  0  0  0]\n",
      "1 [13 11 10  1  3  5  0  0  0  0  0  0  0]\n",
      "1 [13 12 11  9 10  8  6  1  2  7  3  4  5]\n",
      "1 [13 12 11  9 10  8  6  1  2  7  3  4  5]\n",
      "1 [13 12  9 10  6  2  7  4  5  0  0  0  0]\n",
      "1 [13 12 11  9 10  8  6  1  2  7  3  4  5]\n",
      "1 [13 12 11 10  8  1  7  3  5  0  0  0  0]\n",
      "1 [13 12 11  9 10  8  6  1  2  7  3  4  5]\n",
      "1 [13 12 11  9 10  8  6  1  2  7  3  4  5]\n",
      "1 [13 12  9  6  7  4  0  0  0  0  0  0  0]\n",
      "1 [13 12 11  9  8  6  7  3  4  0  0  0  0]\n",
      "1 [13 12 11  8  7  3  0  0  0  0  0  0  0]\n",
      "1 [13 11  9 10  1  2  3  4  5  0  0  0  0]\n",
      "1 [13 11  9 10  1  2  3  4  5  0  0  0  0]\n",
      "1 [13 12  9 10  6  2  7  4  5  0  0  0  0]\n",
      "1 [13 12 11  9 10  8  6  1  2  7  3  4  5]\n",
      "1 [13 12 11 10  8  1  7  3  5  0  0  0  0]\n",
      "1 [13 12 11  9 10  8  6  1  2  7  3  4  5]\n",
      "1 [13 12 11  9 10  8  6  1  2  7  3  4  5]\n",
      "1 [13 12  9 10  6  2  7  4  5  0  0  0  0]\n",
      "1 [13 12 11  9 10  8  6  1  2  7  3  4  5]\n",
      "1 [13 12 11 10  8  1  7  3  5  0  0  0  0]\n",
      "1 [13 12 11  9  8  6  7  3  4  0  0  0  0]\n",
      "1 [13 12 11  9  8  6  7  3  4  0  0  0  0]\n",
      "1 [13  9 10  2  0  0  0  0  0  0  0  0  0]\n",
      "1 [13 11  9 10  1  2  0  0  0  0  0  0  0]\n",
      "1 [13 11 10  1  0  0  0  0  0  0  0  0  0]\n",
      "1 [13 12 11  9 10  8  6  1  2  0  0  0  0]\n",
      "1 [13 12 11  9 10  8  6  1  2  0  0  0  0]\n",
      "1 [13 12  9 10  6  2  0  0  0  0  0  0  0]\n",
      "1 [13 12 11  9 10  8  6  1  2  0  0  0  0]\n",
      "1 [13 12 11 10  8  1  0  0  0  0  0  0  0]\n",
      "1 [13 12 11  9 10  8  6  1  2  0  0  0  0]\n",
      "1 [13 12 11  9 10  8  6  1  2  0  0  0  0]\n",
      "1 [13 12  9  6  0  0  0  0  0  0  0  0  0]\n",
      "1 [13 12 11  9  8  6  0  0  0  0  0  0  0]\n",
      "1 [13 12 11  8  0  0  0  0  0  0  0  0  0]\n"
     ]
    }
   ],
   "source": [
    "initialization.mmcal(fcc_crd,nn,nm,initialization.equiv,izp,nmat,mm,vec,iw)\n",
    "print 'Type,', 'Interaction Vector'\n",
    "for i in range(n_at):\n",
    "    mm[i,0]=izp[i]+12\n",
    "for i,m in zip(izp, mm[:,:13]):\n",
    "    print i, m"
   ]
  },
  {
   "cell_type": "code",
   "execution_count": 11,
   "metadata": {},
   "outputs": [],
   "source": [
    "#Now load Hamiltonian and Self-Energy Matrices\n",
    "#self energy matrices are stored for each type as nmat+ntype.\n",
    "#i.e. vec list contains all non-zero interaction vectors\n",
    "#and then all self-energy matrices.\n",
    "for k in range(12):\n",
    "    ii = iw[0,k]\n",
    "    ij = iw[1,k]\n",
    "    slaterkoster.slkode(vec[:,k],ii,ij,EE[:,:,k],initialization.fccbnd)"
   ]
  },
  {
   "cell_type": "code",
   "execution_count": 12,
   "metadata": {},
   "outputs": [],
   "source": [
    "init_at = np.array([3,3,4],dtype=np.int32)"
   ]
  },
  {
   "cell_type": "code",
   "execution_count": 13,
   "metadata": {},
   "outputs": [
    {
     "name": "stdout",
     "output_type": "stream",
     "text": [
      "43 75\n"
     ]
    }
   ],
   "source": [
    "for i, at in enumerate(fcc_crd.T):\n",
    "    if all([x==y for x,y in zip(init_at, at)]):\n",
    "        init_index = i\n",
    "    else:\n",
    "        continue\n",
    "print init_index, n_at"
   ]
  },
  {
   "cell_type": "code",
   "execution_count": 14,
   "metadata": {},
   "outputs": [],
   "source": [
    "#Recursion vectors, and continued fraction co-efficients.\n",
    "num_orbs = 5\n",
    "rec_depth = 11\n",
    "psi = np.zeros([5,100], dtype=np.float64, order='F')\n",
    "pmn = np.zeros([5,100], dtype=np.float64, order='F')\n",
    "izero = np.zeros([100], dtype=np.int32, order='F')\n",
    "A = np.zeros([30], dtype=np.float64, order='F')\n",
    "B2 = np.zeros([30], dtype=np.float64, order='F')\n",
    "Ap = np.zeros([30,num_orbs], dtype=np.float64, order='F')\n",
    "B2p = np.zeros([30,num_orbs], dtype=np.float64, order='F')"
   ]
  },
  {
   "cell_type": "code",
   "execution_count": 15,
   "metadata": {},
   "outputs": [],
   "source": [
    "#initialize the common block\n",
    "recal.blkrec.nn[:nndim,:nnmx] = nn\n",
    "recal.blkrec.mm[:nndim,:nnmx] = mm\n",
    "recal.blkrec.ee = EE\n",
    "recal.blkrec.nat = n_at\n",
    "recal.blkrec.np = 5\n",
    "recal.blkrec.izero = izero"
   ]
  },
  {
   "cell_type": "code",
   "execution_count": 16,
   "metadata": {},
   "outputs": [
    {
     "name": "stdout",
     "output_type": "stream",
     "text": [
      "Starting Atom:  43 Coordinates:  [3 3 4]\n",
      "Orbital:  1\n",
      "0.0 1.0\n",
      "-0.00736283196951 0.002956431448\n",
      "-0.0285672778271 0.00235335758106\n",
      "-0.0160717767691 0.00179840210154\n",
      "-0.0134217875419 0.00162690633388\n",
      "-0.0112189406514 0.00156254010785\n",
      "-0.0131123824651 0.00174530242468\n",
      "-0.00671959704416 0.00153999427628\n",
      "-0.0165180632731 0.00195674844325\n",
      "-0.0123617749939 0.00173710870996\n",
      "0.0 0.00168461791678\n",
      "\n",
      "Orbital:  2\n",
      "0.0 1.0\n",
      "-0.00736283196951 0.002956431448\n",
      "-0.0285672778271 0.00235335758106\n",
      "-0.0203862488406 0.00205787026547\n",
      "-0.0134712323468 0.00152931824856\n",
      "0.000907045107654 0.00164360915288\n",
      "-0.00596886083673 0.00155990013359\n",
      "-0.00463771127303 0.00131672676638\n",
      "-0.0128520647813 0.00134450111341\n",
      "0.00128078706266 0.00160917437163\n",
      "0.0 0.00158227105934\n",
      "\n",
      "Orbital:  3\n",
      "0.0 1.0\n",
      "-0.00736283196951 0.002956431448\n",
      "-0.0285672778271 0.00235335758106\n",
      "-0.0203862488406 0.00205787026547\n",
      "-0.0134712323468 0.00152931824856\n",
      "0.000907045107654 0.00164360915288\n",
      "-0.00596886083673 0.00155990013359\n",
      "-0.00463771127303 0.00131672676638\n",
      "-0.0128520647813 0.00134450111341\n",
      "0.00128078706266 0.00160917437163\n",
      "0.0 0.00158227105934\n",
      "\n",
      "Orbital:  4\n",
      "0.0 1.0\n",
      "-0.00262666587752 0.002111550456\n",
      "-0.00833134249994 0.00158428066687\n",
      "-0.0126021792548 0.0012106197647\n",
      "0.000809207624558 0.000611601847493\n",
      "-0.00877783823306 0.00137621644133\n",
      "-0.000894400661149 0.00103424495042\n",
      "-0.0046603884298 0.00077124063133\n",
      "-0.000318529805469 0.000987988082245\n",
      "-0.0111471378724 0.00122226304069\n",
      "0.0 0.00159751590211\n",
      "\n",
      "Orbital:  5\n",
      "0.0 1.0\n",
      "-0.00262666587752 0.002111550456\n",
      "-0.00833134249994 0.00158428066687\n",
      "-0.00863417337784 0.00121636480859\n",
      "-0.00744305234243 0.000594727790963\n",
      "-0.00346068803686 0.00129422172785\n",
      "-0.00508817420509 0.000802230781187\n",
      "-0.00651885757476 0.000893742624427\n",
      "0.00475079720572 0.000749171548118\n",
      "-0.00345189535695 0.00108216048247\n",
      "0.0 0.000856513209787\n",
      "\n"
     ]
    }
   ],
   "source": [
    "print 'Starting Atom: ', init_index, 'Coordinates: ', init_at\n",
    "m_psi = 500\n",
    "for iii in range(num_orbs):\n",
    "    print 'Orbital: ', iii+1\n",
    "    psi[:,:]=0.0\n",
    "    pmn[:,:]=0.0\n",
    "    izero[:]=0.0    \n",
    "    B2[0]=1.0\n",
    "    A[-1]=0.0\n",
    "    psi[iii,init_index]=1.0\n",
    "    izero[init_index]=1\n",
    "    recal.blkrec.izero = izero\n",
    "    recal.recal(recal.hop,np.reshape(psi,[m_psi],order='F'),np.reshape(pmn,[m_psi],order='F'),A[:rec_depth],B2[:rec_depth])\n",
    "    Ap[:,iii] = A[:]\n",
    "    B2p[:,iii] = B2[:]\n",
    "    for a,b in zip(Ap[:rec_depth,iii],B2p[:rec_depth,iii]):\n",
    "        print a, b\n",
    "    print ''"
   ]
  },
  {
   "cell_type": "code",
   "execution_count": 17,
   "metadata": {},
   "outputs": [],
   "source": [
    "npts = 201\n",
    "ntabs = 301\n",
    "alp = np.float64(0.5)\n",
    "LL = 9\n",
    "elo = -0.15\n",
    "ehi = 0.15\n",
    "eps = np.float64(5.0e-12)\n",
    "acc = np.float64(1.0e-4)\n",
    "nw = 20\n",
    "de = (ehi-elo)/float(npts-1)\n",
    "tabs = np.zeros([ntabs,num_orbs],dtype=np.float64,order='F')\n",
    "AA = np.zeros([30],dtype=np.float64,order='F')\n",
    "BB2 = np.zeros([30],dtype=np.float64,order='F')"
   ]
  },
  {
   "cell_type": "code",
   "execution_count": 18,
   "metadata": {},
   "outputs": [],
   "source": [
    "#when LL is returned as negative recqd found too few roots.\n",
    "#recsum sums up continued fraction coefficients.\n",
    "coeffproc.recsum(Ap[:LL,:],B2p[:LL,:],LL,AA[:LL],BB2[:LL],eps,tabs,nw=301)\n",
    "#AA[:LL]=Ap[:LL,0]\n",
    "#BB2[:LL]=B2p[:LL,0]"
   ]
  },
  {
   "cell_type": "code",
   "execution_count": 19,
   "metadata": {},
   "outputs": [],
   "source": [
    "#all the terminator parameters to be determined.\n",
    "nbp1 = 5\n",
    "tabs = np.zeros([ntabs,num_orbs],dtype=np.float64,order='F')\n",
    "edge = np.zeros([nbp1],dtype=np.float64,order='F')\n",
    "width = np.zeros([nbp1],dtype=np.float64,order='F')\n",
    "weight = np.zeros([nbp1],dtype=np.float64,order='F')\n",
    "am = np.zeros([30],dtype=np.float64,order='F')\n",
    "bm2 = np.zeros([30],dtype=np.float64,order='F')\n",
    "ic = np.zeros([20],dtype=np.float64,order='F')\n",
    "wk = np.zeros([20,2,nbp1],dtype=np.float64,order='F')\n",
    "bwk = np.zeros([301,4],dtype=np.float64,order='F')\n",
    "iwk = np.zeros([30],dtype=np.float64,order='F')"
   ]
  },
  {
   "cell_type": "code",
   "execution_count": 20,
   "metadata": {},
   "outputs": [
    {
     "name": "stdout",
     "output_type": "stream",
     "text": [
      "-0.0989228190182 0.175142490874 5.0 0.0001 5 9\n",
      "5.42643187329e-18 5.0\n",
      "-0.0058351277602 0.0026184790512\n",
      "-0.0244354789105 0.00217561108997\n",
      "-0.0235193626704 0.00207581379042\n",
      "-0.017371034009 0.00175828508111\n",
      "0.00237579175743 0.00197595686304\n",
      "-0.00893754077525 0.00145290555751\n",
      "-0.0106213426455 0.00150197207474\n",
      "-0.020869873311 0.00178114012405\n",
      "-0.0113515735814 5.0\n",
      "-0.0113515735814 0.00191718075684\n",
      "-0.0113515735814 0.00191718075684\n",
      "-0.0113515735814 0.00191718075684\n",
      "-0.0113515735814 0.00191718075684\n",
      "-0.0113515735814 0.00191718075684\n",
      "-0.0113515735814 0.00191718075684\n",
      "-0.0113515735814 0.00191718075684\n",
      "-0.0113515735814 0.00191718075684\n"
     ]
    }
   ],
   "source": [
    "coeffproc.termgn(AA[:LL],BB2[:LL],eps,acc,30,edge,width,weight,am[:LL],bm2[:LL],ic,wk,bwk,iwk[:LL])\n",
    "print edge[0],width[0],weight[0],acc,nbp1,LL\n",
    "for a,b in zip(AA[:LL],BB2):\n",
    "    print a,b\n",
    "for a,b in zip(am[:LL],bm2):\n",
    "    print a,b\n"
   ]
  },
  {
   "cell_type": "code",
   "execution_count": 21,
   "metadata": {},
   "outputs": [],
   "source": [
    "#  TABULATE D.O.S. ETC. USING C.P.C. ROUTINES\n",
    "NE = np.zeros([1],dtype=np.int32,order='F')\n",
    "NQ = np.zeros([1],dtype=np.int32,order='F')\n",
    "work = np.zeros([20,4],dtype=np.float64,order='F')\n",
    "for I in range(npts):\n",
    "    E = elo + float(I-1)*de\n",
    "    tabs[I,0] = E\n",
    "    tabs[I,4] = coeffproc.dencrs(tabs[I,0],AA[:LL],BB2[:LL],edge[0],width[0],weight[0],am[:LL],bm2[:LL],LL,1)\n",
    "    tabs[I,1] = coeffproc.denqd(tabs[I,0],tabs[I,0],AA[:LL],BB2[:LL],alp,eps,work,NQ,NE,iwk[:LL],LL,20)\n",
    "    if (NE<0): raise ValueError('DENQD failed with {} at E= {}'.format(NE, tabs[I,0]))\n",
    "    tabs[I,2] = work[NE,1]*(alp-1.0)\n",
    "    tabs[I,3] = work[NE,0]*tabs[I,2]\n",
    "    for J in range(NE):\n",
    "        tabs[I,2] = tabs[I,2]+ work[J,1]\n",
    "        tabs[I,3] = tabs[I,3]+work[J,1]*work[J,0]"
   ]
  },
  {
   "cell_type": "code",
   "execution_count": 22,
   "metadata": {},
   "outputs": [
    {
     "data": {
      "text/plain": [
       "[<matplotlib.lines.Line2D at 0x10f0dc910>]"
      ]
     },
     "execution_count": 22,
     "metadata": {},
     "output_type": "execute_result"
    },
    {
     "data": {
      "image/png": "[encoded data removed]",
      "text/plain": [
       "<matplotlib.figure.Figure at 0x10f0dcf10>"
      ]
     },
     "metadata": {},
     "output_type": "display_data"
    }
   ],
   "source": [
    "plt.plot(tabs[:npts,0],tabs[:npts,4],'b-')\n",
    "plt.plot(tabs[:npts,0],tabs[:npts,1],'r')\n",
    "#plt.axis([-0.1,0.1,0.0,25])"
   ]
  },
  {
   "cell_type": "code",
   "execution_count": 23,
   "metadata": {},
   "outputs": [
    {
     "data": {
      "text/plain": [
       "[<matplotlib.lines.Line2D at 0x10f27cbd0>]"
      ]
     },
     "execution_count": 23,
     "metadata": {},
     "output_type": "execute_result"
    },
    {
     "data": {
      "image/png": "[encoded data removed]",
      "text/plain": [
       "<matplotlib.figure.Figure at 0x10f1c0510>"
      ]
     },
     "metadata": {},
     "output_type": "display_data"
    }
   ],
   "source": [
    "plt.plot(tabs[:npts,0],tabs[:npts,2],'b-')\n",
    "#plt.axis([-0.1,0.1,0.0,25])"
   ]
  },
  {
   "cell_type": "code",
   "execution_count": null,
   "metadata": {},
   "outputs": [],
   "source": []
  },
  {
   "cell_type": "code",
   "execution_count": 24,
   "metadata": {},
   "outputs": [
    {
     "data": {
      "text/plain": [
       "[<matplotlib.lines.Line2D at 0x10f360050>]"
      ]
     },
     "execution_count": 24,
     "metadata": {},
     "output_type": "execute_result"
    },
    {
     "data": {
      "image/png": "[encoded data removed]",
      "text/plain": [
       "<matplotlib.figure.Figure at 0x10f0dc890>"
      ]
     },
     "metadata": {},
     "output_type": "display_data"
    }
   ],
   "source": [
    "plt.plot(tabs[:npts,0],tabs[:npts,3],'r-')"
   ]
  },
  {
   "cell_type": "code",
   "execution_count": 29,
   "metadata": {},
   "outputs": [
    {
     "name": "stdout",
     "output_type": "stream",
     "text": [
      "[-0.04960048  0.        ]\n",
      "Num. electrons: 1.0, E_f: -0.0500087718608, E_f accurate: -0.0496004818628\n",
      "[-0.02018583  0.        ]\n",
      "Num. electrons: 2.0, E_f: -0.0196343683388, E_f accurate: -0.0201858327016\n",
      "[ 0.  0.]\n",
      "Num. electrons: 3.0, E_f: 6.95312043128e-310, E_f accurate: 6.95312043128e-310\n",
      "[ 0.  0.]\n",
      "Num. electrons: 4.0, E_f: 6.95312043128e-310, E_f accurate: 6.95312043128e-310\n"
     ]
    }
   ],
   "source": [
    "eb = np.zeros([2],dtype=np.float32,order='F')\n",
    "for m in range(1,4+1):\n",
    "    eb[0] = tabs[0,0]\n",
    "    dum = eb[0]\n",
    "    eb[1] = tabs[-1,0]\n",
    "    n_e = np.float64(m)\n",
    "    ift = 60\n",
    "    ef = coeffproc.fenval(n_e,AA[:LL],BB2[:LL],LL,acc,eps,eb,work,iwk[:nw],ift,nc=1)\n",
    "    ift = 60\n",
    "    eb[1] = tabs[-1,0]\n",
    "    eb[0] = dum\n",
    "    efac = coeffproc.fenval(n_e,Ap[:LL,:],B2p[:LL,:],LL,acc,eps,eb,work,iwk[:nw],ift,nc=5)\n",
    "    eb[0] = efac\n",
    "    print eb\n",
    "    print 'Num. electrons: {}, E_f: {}, E_f accurate: {}'.format(n_e,ef,efac)"
   ]
  },
  {
   "cell_type": "code",
   "execution_count": null,
   "metadata": {},
   "outputs": [],
   "source": []
  }
 ],
 "metadata": {
  "kernelspec": {
   "display_name": "Python 2",
   "language": "python",
   "name": "python2"
  },
  "language_info": {
   "codemirror_mode": {
    "name": "ipython",
    "version": 2
   },
   "file_extension": ".py",
   "mimetype": "text/x-python",
   "name": "python",
   "nbconvert_exporter": "python",
   "pygments_lexer": "ipython2",
   "version": "2.7.13"
  }
 },
 "nbformat": 4,
 "nbformat_minor": 2
}
